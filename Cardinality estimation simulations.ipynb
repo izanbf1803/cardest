{
 "cells": [
  {
   "cell_type": "code",
   "execution_count": 1,
   "id": "9d25a759-39aa-49f0-9454-013373987fdf",
   "metadata": {},
   "outputs": [],
   "source": [
    "import random\n",
    "import xxhash\n",
    "from implementations.hyperloglog import HyperLogLog\n",
    "from implementations.recordinality import Recordinality\n",
    "from implementations.zipfian_data_generator import ZipfianDataGenerator"
   ]
  },
  {
   "cell_type": "code",
   "execution_count": 2,
   "id": "02774f01-fc8e-4cb2-ad02-34fde7cb1678",
   "metadata": {},
   "outputs": [],
   "source": [
    "random.seed(0xCAFFE) # for the sake of reproducibility"
   ]
  },
  {
   "cell_type": "code",
   "execution_count": 3,
   "id": "0366f42f-29bc-4088-ad62-ff5de8d8e60b",
   "metadata": {},
   "outputs": [],
   "source": [
    "def xxhash64(s: str):\n",
    "    return xxhash.xxh64(s).intdigest()"
   ]
  },
  {
   "cell_type": "code",
   "execution_count": 4,
   "id": "08e3f101-3951-4deb-8bea-400035988a6e",
   "metadata": {},
   "outputs": [],
   "source": [
    "def stream_from_file(filename: str):\n",
    "    stream = []\n",
    "    with open(filename, 'r') as file:\n",
    "        for line in file:\n",
    "            word = line.strip()\n",
    "            stream.append(word)\n",
    "    return stream"
   ]
  },
  {
   "cell_type": "code",
   "execution_count": 5,
   "id": "64c51b3d-c452-43a1-a5af-b06939819f37",
   "metadata": {},
   "outputs": [],
   "source": [
    "def stream_cardinality_estimation(stream: list[str], cardinality_estimator):\n",
    "    ground_truth_count = len(set(stream))\n",
    "    for word in stream:\n",
    "        cardinality_estimator.add(word)\n",
    "    estimation = cardinality_estimator.count()\n",
    "    relative_error = abs(ground_truth_count - estimation) / ground_truth_count\n",
    "    return ground_truth_count, estimation, relative_error\n"
   ]
  },
  {
   "cell_type": "code",
   "execution_count": null,
   "id": "ceb389b0-d406-4994-ac13-961dd0e2ed18",
   "metadata": {},
   "outputs": [],
   "source": []
  },
  {
   "cell_type": "code",
   "execution_count": 6,
   "id": "930a505a-fb30-412e-aba0-dc63e38be2c6",
   "metadata": {},
   "outputs": [
    {
     "data": {
      "text/plain": [
       "367.7555677437675"
      ]
     },
     "execution_count": 6,
     "metadata": {},
     "output_type": "execute_result"
    }
   ],
   "source": [
    "HLL = HyperLogLog(hash_f=xxhash64, hash_size=64, m=2**8)\n",
    "HLL.count()"
   ]
  },
  {
   "cell_type": "code",
   "execution_count": 7,
   "id": "af1d4fc8-fec5-4838-a8af-a6f1f9f27410",
   "metadata": {},
   "outputs": [
    {
     "data": {
      "text/plain": [
       "15"
      ]
     },
     "execution_count": 7,
     "metadata": {},
     "output_type": "execute_result"
    }
   ],
   "source": [
    "max(HLL.hash_leading_zeros(HLL.hash_f(str(4534543345+i)) & HLL.mask) for i in range(2**16))"
   ]
  },
  {
   "cell_type": "code",
   "execution_count": 8,
   "id": "ee0187ac-9954-42ea-8f45-79c9cf6aba77",
   "metadata": {},
   "outputs": [
    {
     "data": {
      "text/plain": [
       "54"
      ]
     },
     "execution_count": 8,
     "metadata": {},
     "output_type": "execute_result"
    }
   ],
   "source": [
    "HLL.hash_leading_zeros(2**2-1)"
   ]
  },
  {
   "cell_type": "code",
   "execution_count": 9,
   "id": "82669818-64bc-4283-8cfa-731da5d46a91",
   "metadata": {},
   "outputs": [
    {
     "data": {
      "text/plain": [
       "56"
      ]
     },
     "execution_count": 9,
     "metadata": {},
     "output_type": "execute_result"
    }
   ],
   "source": [
    "HLL.mask_len"
   ]
  },
  {
   "cell_type": "code",
   "execution_count": 10,
   "id": "a004cbca-4d72-4900-9662-204cf84aac4d",
   "metadata": {},
   "outputs": [
    {
     "data": {
      "text/plain": [
       "['jtvqqh',\n",
       " 'szidqw',\n",
       " 'jtvqqh',\n",
       " 'jujifg',\n",
       " 'xjsspy',\n",
       " 'xjsspy',\n",
       " 'jtvqqh',\n",
       " 'jtvqqh',\n",
       " 'jtvqqh',\n",
       " 'jtvqqh']"
      ]
     },
     "execution_count": 10,
     "metadata": {},
     "output_type": "execute_result"
    }
   ],
   "source": [
    "ZDG = ZipfianDataGenerator(1, 10)\n",
    "ZDG.random_stream(10)"
   ]
  },
  {
   "cell_type": "code",
   "execution_count": 11,
   "id": "e8f04ed9-7b79-4cfb-aae7-fda287bcbb11",
   "metadata": {},
   "outputs": [
    {
     "name": "stdout",
     "output_type": "stream",
     "text": [
      "CPU times: user 148 ms, sys: 12 ms, total: 160 ms\n",
      "Wall time: 191 ms\n"
     ]
    },
    {
     "data": {
      "text/plain": [
       "(23034, 24254.286700800636, 0.05297762875751654)"
      ]
     },
     "execution_count": 11,
     "metadata": {},
     "output_type": "execute_result"
    }
   ],
   "source": [
    "%%time\n",
    "HLL = HyperLogLog(hash_f=xxhash64, hash_size=64, m=2**8)\n",
    "stream = stream_from_file(\"datasets/quijote.txt\")\n",
    "stream_cardinality_estimation(stream, HLL)"
   ]
  },
  {
   "cell_type": "code",
   "execution_count": 12,
   "id": "94483c7b-e66f-49ba-a0a5-88621c18a6e5",
   "metadata": {},
   "outputs": [
    {
     "data": {
      "text/plain": [
       "(55780, 57056.46166658794, 0.022883859207385025)"
      ]
     },
     "execution_count": 12,
     "metadata": {},
     "output_type": "execute_result"
    }
   ],
   "source": [
    "N = 10**5\n",
    "stream = ZipfianDataGenerator(alpha=1, n=N).random_stream(4*N)\n",
    "HLL = HyperLogLog(hash_f=xxhash64, hash_size=64, m=2**8)\n",
    "stream_cardinality_estimation(stream, HLL)"
   ]
  },
  {
   "cell_type": "code",
   "execution_count": 15,
   "id": "adeac6ff-dd1d-4860-9ba0-2449092689e9",
   "metadata": {},
   "outputs": [
    {
     "name": "stdout",
     "output_type": "stream",
     "text": [
      "CPU times: user 167 ms, sys: 19 µs, total: 167 ms\n",
      "Wall time: 167 ms\n"
     ]
    },
    {
     "data": {
      "text/plain": [
       "(23034, 24985.224522334935, 0.0847106243958902)"
      ]
     },
     "execution_count": 15,
     "metadata": {},
     "output_type": "execute_result"
    }
   ],
   "source": [
    "%%time\n",
    "R = Recordinality(hash_f=xxhash64, k=2**8)\n",
    "stream = stream_from_file(\"datasets/quijote.txt\")\n",
    "stream_cardinality_estimation(stream, R)"
   ]
  },
  {
   "cell_type": "code",
   "execution_count": 20,
   "id": "afae3560-f886-49ef-be86-a43408b16541",
   "metadata": {},
   "outputs": [
    {
     "data": {
      "text/plain": [
       "(55675, 57998.30244575456, 0.04172972511458575)"
      ]
     },
     "execution_count": 20,
     "metadata": {},
     "output_type": "execute_result"
    }
   ],
   "source": [
    "N = 10**5\n",
    "stream = ZipfianDataGenerator(alpha=1, n=N).random_stream(4*N)\n",
    "R = Recordinality(hash_f=xxhash64, k=2**8)\n",
    "stream_cardinality_estimation(stream, R)"
   ]
  },
  {
   "cell_type": "code",
   "execution_count": 14,
   "id": "eaa000cb-6688-4832-bdc0-7e88dfde3e03",
   "metadata": {},
   "outputs": [
    {
     "data": {
      "text/plain": [
       "<implementations.recordinality.Recordinality at 0x7f0062ef50d0>"
      ]
     },
     "execution_count": 14,
     "metadata": {},
     "output_type": "execute_result"
    }
   ],
   "source": [
    "R"
   ]
  }
 ],
 "metadata": {
  "kernelspec": {
   "display_name": "Python 3 (ipykernel)",
   "language": "python",
   "name": "python3"
  },
  "language_info": {
   "codemirror_mode": {
    "name": "ipython",
    "version": 3
   },
   "file_extension": ".py",
   "mimetype": "text/x-python",
   "name": "python",
   "nbconvert_exporter": "python",
   "pygments_lexer": "ipython3",
   "version": "3.11.8"
  }
 },
 "nbformat": 4,
 "nbformat_minor": 5
}
