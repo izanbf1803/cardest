{
 "cells": [
  {
   "cell_type": "code",
   "execution_count": 1,
   "id": "9d25a759-39aa-49f0-9454-013373987fdf",
   "metadata": {},
   "outputs": [],
   "source": [
    "import xxhash\n",
    "from implementations.cardinality_estimator import CardinalityEstimator\n",
    "from implementations.hyperloglog import HyperLogLog"
   ]
  },
  {
   "cell_type": "code",
   "execution_count": 2,
   "id": "0366f42f-29bc-4088-ad62-ff5de8d8e60b",
   "metadata": {},
   "outputs": [],
   "source": [
    "def xxhash64(s: str):\n",
    "    return xxhash.xxh64(s).intdigest()"
   ]
  },
  {
   "cell_type": "code",
   "execution_count": 3,
   "id": "64c51b3d-c452-43a1-a5af-b06939819f37",
   "metadata": {},
   "outputs": [],
   "source": [
    "def stream_file_into_cardinality_estimator(filename: str, cardest: CardinalityEstimator):\n",
    "    word_set = set()\n",
    "    with open(filename, 'r') as file:\n",
    "        for line in file:\n",
    "            word = line.strip()\n",
    "            word_set.add(word)\n",
    "            cardest.add(line)\n",
    "    ground_truth_count = len(word_set)\n",
    "    estimation = cardest.count()\n",
    "    relative_error = abs(ground_truth_count - estimation) / ground_truth_count\n",
    "    return ground_truth_count, estimation, relative_error\n"
   ]
  },
  {
   "cell_type": "code",
   "execution_count": null,
   "id": "ceb389b0-d406-4994-ac13-961dd0e2ed18",
   "metadata": {},
   "outputs": [],
   "source": []
  },
  {
   "cell_type": "code",
   "execution_count": 4,
   "id": "930a505a-fb30-412e-aba0-dc63e38be2c6",
   "metadata": {},
   "outputs": [
    {
     "data": {
      "text/plain": [
       "367.7555677437675"
      ]
     },
     "execution_count": 4,
     "metadata": {},
     "output_type": "execute_result"
    }
   ],
   "source": [
    "HLL = HyperLogLog(hash_f=xxhash64, hash_size=64, m=2**8)\n",
    "HLL.count()"
   ]
  },
  {
   "cell_type": "code",
   "execution_count": 5,
   "id": "af1d4fc8-fec5-4838-a8af-a6f1f9f27410",
   "metadata": {},
   "outputs": [
    {
     "data": {
      "text/plain": [
       "15"
      ]
     },
     "execution_count": 5,
     "metadata": {},
     "output_type": "execute_result"
    }
   ],
   "source": [
    "max(HLL.hash_leading_zeros(HLL.hash_f(str(4534543345+i)) & HLL.mask) for i in range(2**16))"
   ]
  },
  {
   "cell_type": "code",
   "execution_count": 6,
   "id": "ee0187ac-9954-42ea-8f45-79c9cf6aba77",
   "metadata": {},
   "outputs": [
    {
     "data": {
      "text/plain": [
       "54"
      ]
     },
     "execution_count": 6,
     "metadata": {},
     "output_type": "execute_result"
    }
   ],
   "source": [
    "HLL.hash_leading_zeros(2**2-1)"
   ]
  },
  {
   "cell_type": "code",
   "execution_count": 7,
   "id": "82669818-64bc-4283-8cfa-731da5d46a91",
   "metadata": {},
   "outputs": [
    {
     "data": {
      "text/plain": [
       "56"
      ]
     },
     "execution_count": 7,
     "metadata": {},
     "output_type": "execute_result"
    }
   ],
   "source": [
    "HLL.mask_len"
   ]
  },
  {
   "cell_type": "code",
   "execution_count": 8,
   "id": "b3c43cb5-fe5c-47ff-92b0-b5e28b838525",
   "metadata": {},
   "outputs": [
    {
     "data": {
      "text/plain": [
       "(23034, 22355.41100915903, 0.029460319130023876)"
      ]
     },
     "execution_count": 8,
     "metadata": {},
     "output_type": "execute_result"
    }
   ],
   "source": [
    "stream_file_into_cardinality_estimator(\"datasets/quijote.txt\", HLL)\n",
    "# ground_truth_count = 10**6\n",
    "# for i in range(ground_truth_count):\n",
    "#     HLL.add(str(43345345345+i))\n",
    "# ground_truth_count / HLL.count() "
   ]
  },
  {
   "cell_type": "code",
   "execution_count": null,
   "id": "a004cbca-4d72-4900-9662-204cf84aac4d",
   "metadata": {},
   "outputs": [],
   "source": []
  },
  {
   "cell_type": "code",
   "execution_count": null,
   "id": "e8f04ed9-7b79-4cfb-aae7-fda287bcbb11",
   "metadata": {},
   "outputs": [],
   "source": []
  },
  {
   "cell_type": "code",
   "execution_count": null,
   "id": "94483c7b-e66f-49ba-a0a5-88621c18a6e5",
   "metadata": {},
   "outputs": [],
   "source": []
  }
 ],
 "metadata": {
  "kernelspec": {
   "display_name": "Python 3 (ipykernel)",
   "language": "python",
   "name": "python3"
  },
  "language_info": {
   "codemirror_mode": {
    "name": "ipython",
    "version": 3
   },
   "file_extension": ".py",
   "mimetype": "text/x-python",
   "name": "python",
   "nbconvert_exporter": "python",
   "pygments_lexer": "ipython3",
   "version": "3.12.3"
  }
 },
 "nbformat": 4,
 "nbformat_minor": 5
}
